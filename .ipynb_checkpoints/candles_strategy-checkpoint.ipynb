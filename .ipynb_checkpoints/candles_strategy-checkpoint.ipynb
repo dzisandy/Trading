{
 "cells": [
  {
   "cell_type": "code",
   "execution_count": 1,
   "metadata": {},
   "outputs": [
    {
     "name": "stderr",
     "output_type": "stream",
     "text": [
      "/anaconda2/lib/python2.7/site-packages/sklearn/cross_validation.py:41: DeprecationWarning: This module was deprecated in version 0.18 in favor of the model_selection module into which all the refactored classes and functions are moved. Also note that the interface of the new CV iterators are different from that of this module. This module will be removed in 0.20.\n",
      "  \"This module will be removed in 0.20.\", DeprecationWarning)\n",
      "/anaconda2/lib/python2.7/site-packages/sklearn/grid_search.py:42: DeprecationWarning: This module was deprecated in version 0.18 in favor of the model_selection module into which all the refactored classes and functions are moved. This module will be removed in 0.20.\n",
      "  DeprecationWarning)\n"
     ]
    },
    {
     "name": "stdout",
     "output_type": "stream",
     "text": [
      "Populating the interactive namespace from numpy and matplotlib\n"
     ]
    }
   ],
   "source": [
    "from matplotlib.colors import ListedColormap\n",
    "from sklearn import cross_validation, datasets, metrics, tree ,ensemble\n",
    "from sklearn.linear_model import LogisticRegression\n",
    "from sklearn.grid_search import GridSearchCV\n",
    "from sklearn.metrics import roc_auc_score, precision_recall_curve\n",
    "import pandas as pd\n",
    "import numpy as np\n",
    "%pylab inline"
   ]
  },
  {
   "cell_type": "markdown",
   "metadata": {},
   "source": [
    "# Генерация данных"
   ]
  },
  {
   "cell_type": "code",
   "execution_count": 2,
   "metadata": {},
   "outputs": [
    {
     "data": {
      "text/html": [
       "<div>\n",
       "<style>\n",
       "    .dataframe thead tr:only-child th {\n",
       "        text-align: right;\n",
       "    }\n",
       "\n",
       "    .dataframe thead th {\n",
       "        text-align: left;\n",
       "    }\n",
       "\n",
       "    .dataframe tbody tr th {\n",
       "        vertical-align: top;\n",
       "    }\n",
       "</style>\n",
       "<table border=\"1\" class=\"dataframe\">\n",
       "  <thead>\n",
       "    <tr style=\"text-align: right;\">\n",
       "      <th></th>\n",
       "      <th>&lt;DATE&gt;</th>\n",
       "      <th>&lt;TIME&gt;</th>\n",
       "      <th>&lt;OPEN&gt;</th>\n",
       "      <th>&lt;HIGH&gt;</th>\n",
       "      <th>&lt;LOW&gt;</th>\n",
       "      <th>&lt;CLOSE&gt;</th>\n",
       "      <th>&lt;VOLUME&gt;</th>\n",
       "    </tr>\n",
       "  </thead>\n",
       "  <tbody>\n",
       "    <tr>\n",
       "      <th>0</th>\n",
       "      <td>20170101</td>\n",
       "      <td>30000</td>\n",
       "      <td>968.29</td>\n",
       "      <td>968.29</td>\n",
       "      <td>968.29</td>\n",
       "      <td>968.29</td>\n",
       "      <td>0.0</td>\n",
       "    </tr>\n",
       "    <tr>\n",
       "      <th>1</th>\n",
       "      <td>20170101</td>\n",
       "      <td>30100</td>\n",
       "      <td>968.29</td>\n",
       "      <td>968.76</td>\n",
       "      <td>968.49</td>\n",
       "      <td>968.70</td>\n",
       "      <td>12993.0</td>\n",
       "    </tr>\n",
       "    <tr>\n",
       "      <th>2</th>\n",
       "      <td>20170101</td>\n",
       "      <td>30200</td>\n",
       "      <td>968.70</td>\n",
       "      <td>968.70</td>\n",
       "      <td>967.20</td>\n",
       "      <td>968.43</td>\n",
       "      <td>73800.0</td>\n",
       "    </tr>\n",
       "    <tr>\n",
       "      <th>3</th>\n",
       "      <td>20170101</td>\n",
       "      <td>30300</td>\n",
       "      <td>968.43</td>\n",
       "      <td>968.00</td>\n",
       "      <td>967.21</td>\n",
       "      <td>967.21</td>\n",
       "      <td>3500.0</td>\n",
       "    </tr>\n",
       "    <tr>\n",
       "      <th>4</th>\n",
       "      <td>20170101</td>\n",
       "      <td>30400</td>\n",
       "      <td>967.21</td>\n",
       "      <td>967.21</td>\n",
       "      <td>966.74</td>\n",
       "      <td>966.97</td>\n",
       "      <td>15969.0</td>\n",
       "    </tr>\n",
       "  </tbody>\n",
       "</table>\n",
       "</div>"
      ],
      "text/plain": [
       "     <DATE>  <TIME>  <OPEN>  <HIGH>   <LOW>  <CLOSE>  <VOLUME>\n",
       "0  20170101   30000  968.29  968.29  968.29   968.29       0.0\n",
       "1  20170101   30100  968.29  968.76  968.49   968.70   12993.0\n",
       "2  20170101   30200  968.70  968.70  967.20   968.43   73800.0\n",
       "3  20170101   30300  968.43  968.00  967.21   967.21    3500.0\n",
       "4  20170101   30400  967.21  967.21  966.74   966.97   15969.0"
      ]
     },
     "execution_count": 2,
     "metadata": {},
     "output_type": "execute_result"
    }
   ],
   "source": [
    "datas = pd.read_csv('XBTUSD_20170101_20180226.csv')\n",
    "# beginnig in 20171215 8: 56 :00\n",
    "datas = datas.drop(['<TICKER>','<PER>'], axis =1)\n",
    "#pyplot.plot(np.linspace(0,100,106000),datas['<OPEN>'])\n",
    "#datas = datas.drop(range(0,5000), axis =0)\n",
    "datas.head()"
   ]
  },
  {
   "cell_type": "code",
   "execution_count": 8,
   "metadata": {},
   "outputs": [],
   "source": [
    "def candles(strategy, period, datas):  #strategy: 1 - open/close 2 - open/percent 3 -  high/low\n",
    "    size = []\n",
    "    if (strategy == 1):\n",
    "        for i in np.arange(period,datas.shape[0],period):\n",
    "            size.append((datas['<OPEN>'][i] -datas['<CLOSE>'][period:i]))\n",
    "    return size"
   ]
  },
  {
   "cell_type": "code",
   "execution_count": null,
   "metadata": {},
   "outputs": [],
   "source": [
    "candles(1, 1, datas)"
   ]
  },
  {
   "cell_type": "code",
   "execution_count": null,
   "metadata": {
    "collapsed": true
   },
   "outputs": [],
   "source": []
  }
 ],
 "metadata": {
  "kernelspec": {
   "display_name": "Python 2",
   "language": "python",
   "name": "python2"
  },
  "language_info": {
   "codemirror_mode": {
    "name": "ipython",
    "version": 2
   },
   "file_extension": ".py",
   "mimetype": "text/x-python",
   "name": "python",
   "nbconvert_exporter": "python",
   "pygments_lexer": "ipython2",
   "version": "2.7.14"
  }
 },
 "nbformat": 4,
 "nbformat_minor": 2
}
