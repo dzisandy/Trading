{
 "cells": [
  {
   "cell_type": "markdown",
   "metadata": {},
   "source": [
    "# Pattern search"
   ]
  },
  {
   "cell_type": "code",
   "execution_count": 1,
   "metadata": {},
   "outputs": [
    {
     "name": "stderr",
     "output_type": "stream",
     "text": [
      "/anaconda2/lib/python2.7/site-packages/sklearn/cross_validation.py:41: DeprecationWarning: This module was deprecated in version 0.18 in favor of the model_selection module into which all the refactored classes and functions are moved. Also note that the interface of the new CV iterators are different from that of this module. This module will be removed in 0.20.\n",
      "  \"This module will be removed in 0.20.\", DeprecationWarning)\n",
      "/anaconda2/lib/python2.7/site-packages/sklearn/grid_search.py:42: DeprecationWarning: This module was deprecated in version 0.18 in favor of the model_selection module into which all the refactored classes and functions are moved. This module will be removed in 0.20.\n",
      "  DeprecationWarning)\n"
     ]
    },
    {
     "name": "stdout",
     "output_type": "stream",
     "text": [
      "Populating the interactive namespace from numpy and matplotlib\n"
     ]
    }
   ],
   "source": [
    "from matplotlib.colors import ListedColormap\n",
    "from sklearn import cross_validation, datasets, metrics, tree ,ensemble\n",
    "from sklearn.linear_model import LogisticRegression\n",
    "from sklearn.grid_search import GridSearchCV\n",
    "from sklearn.metrics import roc_auc_score, precision_recall_curve\n",
    "import pandas as pd\n",
    "import numpy as np\n",
    "%pylab inline"
   ]
  },
  {
   "cell_type": "markdown",
   "metadata": {},
   "source": [
    "## Генерация данных\n"
   ]
  },
  {
   "cell_type": "code",
   "execution_count": 2,
   "metadata": {},
   "outputs": [
    {
     "data": {
      "text/html": [
       "<div>\n",
       "<style>\n",
       "    .dataframe thead tr:only-child th {\n",
       "        text-align: right;\n",
       "    }\n",
       "\n",
       "    .dataframe thead th {\n",
       "        text-align: left;\n",
       "    }\n",
       "\n",
       "    .dataframe tbody tr th {\n",
       "        vertical-align: top;\n",
       "    }\n",
       "</style>\n",
       "<table border=\"1\" class=\"dataframe\">\n",
       "  <thead>\n",
       "    <tr style=\"text-align: right;\">\n",
       "      <th></th>\n",
       "      <th>&lt;DATE&gt;</th>\n",
       "      <th>&lt;TIME&gt;</th>\n",
       "      <th>&lt;OPEN&gt;</th>\n",
       "      <th>&lt;HIGH&gt;</th>\n",
       "      <th>&lt;LOW&gt;</th>\n",
       "      <th>&lt;CLOSE&gt;</th>\n",
       "      <th>&lt;VOLUME&gt;</th>\n",
       "    </tr>\n",
       "  </thead>\n",
       "  <tbody>\n",
       "    <tr>\n",
       "      <th>0</th>\n",
       "      <td>20170101</td>\n",
       "      <td>30000</td>\n",
       "      <td>968.29</td>\n",
       "      <td>968.29</td>\n",
       "      <td>968.29</td>\n",
       "      <td>968.29</td>\n",
       "      <td>0.0</td>\n",
       "    </tr>\n",
       "    <tr>\n",
       "      <th>1</th>\n",
       "      <td>20170101</td>\n",
       "      <td>30100</td>\n",
       "      <td>968.29</td>\n",
       "      <td>968.76</td>\n",
       "      <td>968.49</td>\n",
       "      <td>968.70</td>\n",
       "      <td>12993.0</td>\n",
       "    </tr>\n",
       "    <tr>\n",
       "      <th>2</th>\n",
       "      <td>20170101</td>\n",
       "      <td>30200</td>\n",
       "      <td>968.70</td>\n",
       "      <td>968.70</td>\n",
       "      <td>967.20</td>\n",
       "      <td>968.43</td>\n",
       "      <td>73800.0</td>\n",
       "    </tr>\n",
       "    <tr>\n",
       "      <th>3</th>\n",
       "      <td>20170101</td>\n",
       "      <td>30300</td>\n",
       "      <td>968.43</td>\n",
       "      <td>968.00</td>\n",
       "      <td>967.21</td>\n",
       "      <td>967.21</td>\n",
       "      <td>3500.0</td>\n",
       "    </tr>\n",
       "    <tr>\n",
       "      <th>4</th>\n",
       "      <td>20170101</td>\n",
       "      <td>30400</td>\n",
       "      <td>967.21</td>\n",
       "      <td>967.21</td>\n",
       "      <td>966.74</td>\n",
       "      <td>966.97</td>\n",
       "      <td>15969.0</td>\n",
       "    </tr>\n",
       "  </tbody>\n",
       "</table>\n",
       "</div>"
      ],
      "text/plain": [
       "     <DATE>  <TIME>  <OPEN>  <HIGH>   <LOW>  <CLOSE>  <VOLUME>\n",
       "0  20170101   30000  968.29  968.29  968.29   968.29       0.0\n",
       "1  20170101   30100  968.29  968.76  968.49   968.70   12993.0\n",
       "2  20170101   30200  968.70  968.70  967.20   968.43   73800.0\n",
       "3  20170101   30300  968.43  968.00  967.21   967.21    3500.0\n",
       "4  20170101   30400  967.21  967.21  966.74   966.97   15969.0"
      ]
     },
     "execution_count": 2,
     "metadata": {},
     "output_type": "execute_result"
    }
   ],
   "source": [
    "datas = pd.read_csv('XBTUSD_20170101_20180226.csv')\n",
    "# beginnig in 20171215 8: 56 :00\n",
    "datas = datas.drop(['<TICKER>','<PER>'], axis =1)\n",
    "#pyplot.plot(np.linspace(0,100,106000),datas['<OPEN>'])\n",
    "#datas = datas.drop(range(0,5000), axis =0)\n",
    "datas.head()\n"
   ]
  },
  {
   "cell_type": "code",
   "execution_count": 3,
   "metadata": {
    "collapsed": true
   },
   "outputs": [],
   "source": [
    "# проценты от средней\n",
    "def mean_period(datas, period):\n",
    "    averages = []\n",
    "    for i in np.arange(period,datas.shape[0],period):\n",
    "        averages.append(datas['<OPEN>'][i-period:i].mean())\n",
    "    averages.append(datas['<OPEN>'][i:datas.shape[0]].mean())\n",
    "    return averages\n",
    "    \n",
    "def make_serias(datas,period,bound,averages):\n",
    "    current_price = datas['<OPEN>'][0]\n",
    "    result_series = [] \n",
    "    #print(averages)\n",
    "    \n",
    "    for i in range(datas.shape[0]):\n",
    "        j = i / period\n",
    "        #print(j)\n",
    "        if current_price+averages[j]*bound/100.0<datas['<OPEN>'][i]:\n",
    "            current_price = current_price + averages[j]*bound/100.0\n",
    "            result_series.append(1)\n",
    "            \n",
    "        elif current_price - averages[j]*bound/100.0>datas['<OPEN>'][i]:\n",
    "            current_price = current_price - averages[j]*bound/100.0\n",
    "            result_series.append(-1)\n",
    "    return result_series   \n",
    "\n",
    "def make_series_equal(datas,step):\n",
    "    current_price = datas['<OPEN>'][0]\n",
    "    result_series = [] \n",
    "    for i in range(datas.shape[0]):\n",
    "        if current_price + step < datas['<OPEN>'][i]:\n",
    "            current_price = current_price + step\n",
    "            result_series.append(1)\n",
    "        elif current_price - step > datas['<OPEN>'][i]:\n",
    "            current_price = current_price - step\n",
    "            result_series.append(-1)\n",
    "    return result_series   \n",
    "\n",
    "def prob_a_z(series):\n",
    "    a= 0 \n",
    "    z =0 \n",
    "    for i in range(len(series)):\n",
    "        if series[i] > 0:\n",
    "            a = a+1\n",
    "        if series[i] < 0:\n",
    "            z = z+1\n",
    "    return {'success' : a,\n",
    "            'failure' : z,\n",
    "            'prob of success': float(a)/(a+z)}\n",
    "\n",
    "def make_past(serias,len_of_past):\n",
    "    data = []\n",
    "    y = []\n",
    "    for i in range(len_of_past,len(series)):\n",
    "        data.append(series[i - len_of_past:i])\n",
    "        y.append(series[i])\n",
    "    return [np.array(data),np.array(y)]\n",
    "        "
   ]
  },
  {
   "cell_type": "code",
   "execution_count": 4,
   "metadata": {},
   "outputs": [
    {
     "name": "stdout",
     "output_type": "stream",
     "text": [
      "{'failure': 1307, 'prob of success': 0.5086466165413533, 'success': 1353}\n"
     ]
    }
   ],
   "source": [
    "bound = 5\n",
    "period = 60\n",
    "rounding = 1.0\n",
    "len_of_past = 10\n",
    "step = 200\n",
    "series = make_series_equal(datas,step)\n",
    "print prob_a_z(series)\n",
    "data = make_past(series,len_of_past)\n",
    "X = data[0]\n",
    "y = data[1]\n"
   ]
  },
  {
   "cell_type": "code",
   "execution_count": 22,
   "metadata": {
    "collapsed": true
   },
   "outputs": [],
   "source": [
    "def find_prob_after_pattern(series,len_of_pat, future_step):\n",
    "    patterns = [[(i/(2**j)%2*2 - 1)  for j in range(len_of_pat)] for i in range(2**len_of_pat)]\n",
    "    number_of_patterns = [[0,0,0] for i in range(len(patterns))]  # [pos, neg]\n",
    "    itr = 0\n",
    "    for pat in patterns:\n",
    "        number_of_patterns_pos = 0\n",
    "        number_of_patterns_neg = 0\n",
    "        for j in np.arange(len_of_pat,len(series)-future_step,10):\n",
    "            if pat == series[j - len_of_pat:j]:\n",
    "                if series[j-1+future_step]==1:   \n",
    "                    number_of_patterns_pos += 1\n",
    "                else:\n",
    "                    number_of_patterns_neg += 1       \n",
    "        number_of_patterns[itr][0] = float(number_of_patterns_pos)/(number_of_patterns_neg+number_of_patterns_pos)\n",
    "        number_of_patterns[itr][1] = float(number_of_patterns_neg)/(number_of_patterns_neg+number_of_patterns_pos)\n",
    "        number_of_patterns[itr][2] = number_of_patterns_neg+number_of_patterns_pos\n",
    "        itr += 1\n",
    "        #print number_of_patterns\n",
    "    di = {str(patterns[i]) : number_of_patterns[i] for i in range(2**len_of_pat) }\n",
    "    return di\n",
    "    "
   ]
  },
  {
   "cell_type": "code",
   "execution_count": 23,
   "metadata": {},
   "outputs": [
    {
     "data": {
      "text/plain": [
       "{'[-1, -1, -1, -1]': [0.43478260869565216, 0.5652173913043478, 23],\n",
       " '[-1, -1, -1, 1]': [0.8235294117647058, 0.17647058823529413, 17],\n",
       " '[-1, -1, 1, -1]': [0.5263157894736842, 0.47368421052631576, 19],\n",
       " '[-1, -1, 1, 1]': [0.47619047619047616, 0.5238095238095238, 21],\n",
       " '[-1, 1, -1, -1]': [0.5625, 0.4375, 16],\n",
       " '[-1, 1, -1, 1]': [0.6666666666666666, 0.3333333333333333, 12],\n",
       " '[-1, 1, 1, -1]': [0.6666666666666666, 0.3333333333333333, 9],\n",
       " '[-1, 1, 1, 1]': [0.5555555555555556, 0.4444444444444444, 18],\n",
       " '[1, -1, -1, -1]': [0.375, 0.625, 16],\n",
       " '[1, -1, -1, 1]': [0.6666666666666666, 0.3333333333333333, 18],\n",
       " '[1, -1, 1, -1]': [0.16666666666666666, 0.8333333333333334, 6],\n",
       " '[1, -1, 1, 1]': [0.5909090909090909, 0.4090909090909091, 22],\n",
       " '[1, 1, -1, -1]': [0.375, 0.625, 16],\n",
       " '[1, 1, -1, 1]': [0.4, 0.6, 15],\n",
       " '[1, 1, 1, -1]': [0.3333333333333333, 0.6666666666666666, 15],\n",
       " '[1, 1, 1, 1]': [0.5652173913043478, 0.43478260869565216, 23]}"
      ]
     },
     "execution_count": 23,
     "metadata": {},
     "output_type": "execute_result"
    }
   ],
   "source": [
    "find_prob_after_pattern(series,4,1)"
   ]
  },
  {
   "cell_type": "code",
   "execution_count": 24,
   "metadata": {},
   "outputs": [
    {
     "data": {
      "text/plain": [
       "{'[-1, -1, -1]': [0.425, 0.575, 40],\n",
       " '[-1, -1, 1]': [0.525, 0.475, 40],\n",
       " '[-1, 1, -1]': [0.42857142857142855, 0.5714285714285714, 28],\n",
       " '[-1, 1, 1]': [0.6666666666666666, 0.3333333333333333, 27],\n",
       " '[1, -1, -1]': [0.5294117647058824, 0.47058823529411764, 34],\n",
       " '[1, -1, 1]': [0.7857142857142857, 0.21428571428571427, 28],\n",
       " '[1, 1, -1]': [0.4838709677419355, 0.5161290322580645, 31],\n",
       " '[1, 1, 1]': [0.6052631578947368, 0.39473684210526316, 38]}"
      ]
     },
     "execution_count": 24,
     "metadata": {},
     "output_type": "execute_result"
    }
   ],
   "source": [
    "find_prob_after_pattern(series,3,1)"
   ]
  },
  {
   "cell_type": "code",
   "execution_count": 25,
   "metadata": {},
   "outputs": [
    {
     "data": {
      "text/plain": [
       "{'[-1, -1]': [0.5, 0.5, 80],\n",
       " '[-1, 1]': [0.4909090909090909, 0.509090909090909, 55],\n",
       " '[1, -1]': [0.45161290322580644, 0.5483870967741935, 62],\n",
       " '[1, 1]': [0.5507246376811594, 0.4492753623188406, 69]}"
      ]
     },
     "execution_count": 25,
     "metadata": {},
     "output_type": "execute_result"
    }
   ],
   "source": [
    "find_prob_after_pattern(series,2,1)"
   ]
  },
  {
   "cell_type": "code",
   "execution_count": 26,
   "metadata": {},
   "outputs": [
    {
     "data": {
      "text/plain": [
       "{'[-1]': [0.4074074074074074, 0.5925925925925926, 135],\n",
       " '[1]': [0.5267175572519084, 0.4732824427480916, 131]}"
      ]
     },
     "execution_count": 26,
     "metadata": {},
     "output_type": "execute_result"
    }
   ],
   "source": [
    "find_prob_after_pattern(series,1,1)"
   ]
  },
  {
   "cell_type": "markdown",
   "metadata": {},
   "source": [
    "# TASK 2.1"
   ]
  },
  {
   "cell_type": "code",
   "execution_count": 2,
   "metadata": {
    "collapsed": true
   },
   "outputs": [],
   "source": [
    "def price_building(datas , period , percent , strategy): \n",
    "    result = [] \n",
    "    if (strategy == 0): \n",
    "        for i in np.arange(1,len(datas),period):\n",
    "            result.append(datas[i]/datas[i-1]*100)\n",
    "    return result\n",
    "            \n",
    "    "
   ]
  },
  {
   "cell_type": "code",
   "execution_count": 4,
   "metadata": {},
   "outputs": [
    {
     "ename": "NameError",
     "evalue": "name 'np' is not defined",
     "output_type": "error",
     "traceback": [
      "\u001b[0;31m---------------------------------------------------------------------------\u001b[0m",
      "\u001b[0;31mNameError\u001b[0m                                 Traceback (most recent call last)",
      "\u001b[0;32m<ipython-input-4-6b654f36f677>\u001b[0m in \u001b[0;36m<module>\u001b[0;34m()\u001b[0m\n\u001b[0;32m----> 1\u001b[0;31m \u001b[0mprice_building\u001b[0m\u001b[0;34m(\u001b[0m\u001b[0mnp\u001b[0m\u001b[0;34m.\u001b[0m\u001b[0marray\u001b[0m\u001b[0;34m(\u001b[0m\u001b[0mdatas\u001b[0m\u001b[0;34m[\u001b[0m\u001b[0;34m'<OPEN>'\u001b[0m\u001b[0;34m]\u001b[0m\u001b[0;34m,\u001b[0m\u001b[0;36m10\u001b[0m\u001b[0;34m,\u001b[0m\u001b[0;36m0\u001b[0m\u001b[0;34m,\u001b[0m\u001b[0;36m0\u001b[0m\u001b[0;34m)\u001b[0m\u001b[0;34m)\u001b[0m\u001b[0;34m\u001b[0m\u001b[0m\n\u001b[0m",
      "\u001b[0;31mNameError\u001b[0m: name 'np' is not defined"
     ]
    }
   ],
   "source": [
    "price_building(np.array(datas['<OPEN>'],10,0,0))"
   ]
  },
  {
   "cell_type": "code",
   "execution_count": null,
   "metadata": {
    "collapsed": true
   },
   "outputs": [],
   "source": []
  }
 ],
 "metadata": {
  "kernelspec": {
   "display_name": "Python 2",
   "language": "python",
   "name": "python2"
  },
  "language_info": {
   "codemirror_mode": {
    "name": "ipython",
    "version": 2
   },
   "file_extension": ".py",
   "mimetype": "text/x-python",
   "name": "python",
   "nbconvert_exporter": "python",
   "pygments_lexer": "ipython2",
   "version": "2.7.14"
  }
 },
 "nbformat": 4,
 "nbformat_minor": 1
}
