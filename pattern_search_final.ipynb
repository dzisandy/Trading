{
 "cells": [
  {
   "cell_type": "markdown",
   "metadata": {},
   "source": [
    "# Pattern search"
   ]
  },
  {
   "cell_type": "code",
   "execution_count": 1,
   "metadata": {},
   "outputs": [
    {
     "name": "stderr",
     "output_type": "stream",
     "text": [
      "/anaconda2/lib/python2.7/site-packages/sklearn/cross_validation.py:41: DeprecationWarning: This module was deprecated in version 0.18 in favor of the model_selection module into which all the refactored classes and functions are moved. Also note that the interface of the new CV iterators are different from that of this module. This module will be removed in 0.20.\n",
      "  \"This module will be removed in 0.20.\", DeprecationWarning)\n",
      "/anaconda2/lib/python2.7/site-packages/sklearn/grid_search.py:42: DeprecationWarning: This module was deprecated in version 0.18 in favor of the model_selection module into which all the refactored classes and functions are moved. This module will be removed in 0.20.\n",
      "  DeprecationWarning)\n"
     ]
    },
    {
     "name": "stdout",
     "output_type": "stream",
     "text": [
      "Populating the interactive namespace from numpy and matplotlib\n"
     ]
    }
   ],
   "source": [
    "from matplotlib.colors import ListedColormap\n",
    "from sklearn import cross_validation, datasets, metrics, tree ,ensemble\n",
    "from sklearn.linear_model import LogisticRegression\n",
    "from sklearn.grid_search import GridSearchCV\n",
    "#from sklearn.metrics import roc_auc_score, precision_recall_curve\n",
    "import pandas as pd\n",
    "import numpy as np\n",
    "%pylab inline"
   ]
  },
  {
   "cell_type": "markdown",
   "metadata": {},
   "source": [
    "## Генерация данных\n"
   ]
  },
  {
   "cell_type": "code",
   "execution_count": 2,
   "metadata": {},
   "outputs": [
    {
     "data": {
      "text/html": [
       "<div>\n",
       "<style>\n",
       "    .dataframe thead tr:only-child th {\n",
       "        text-align: right;\n",
       "    }\n",
       "\n",
       "    .dataframe thead th {\n",
       "        text-align: left;\n",
       "    }\n",
       "\n",
       "    .dataframe tbody tr th {\n",
       "        vertical-align: top;\n",
       "    }\n",
       "</style>\n",
       "<table border=\"1\" class=\"dataframe\">\n",
       "  <thead>\n",
       "    <tr style=\"text-align: right;\">\n",
       "      <th></th>\n",
       "      <th>&lt;DATE&gt;</th>\n",
       "      <th>&lt;TIME&gt;</th>\n",
       "      <th>&lt;OPEN&gt;</th>\n",
       "      <th>&lt;HIGH&gt;</th>\n",
       "      <th>&lt;LOW&gt;</th>\n",
       "      <th>&lt;CLOSE&gt;</th>\n",
       "      <th>&lt;VOLUME&gt;</th>\n",
       "    </tr>\n",
       "  </thead>\n",
       "  <tbody>\n",
       "    <tr>\n",
       "      <th>0</th>\n",
       "      <td>20170101</td>\n",
       "      <td>30000</td>\n",
       "      <td>968.29</td>\n",
       "      <td>968.29</td>\n",
       "      <td>968.29</td>\n",
       "      <td>968.29</td>\n",
       "      <td>0.0</td>\n",
       "    </tr>\n",
       "    <tr>\n",
       "      <th>1</th>\n",
       "      <td>20170101</td>\n",
       "      <td>30100</td>\n",
       "      <td>968.29</td>\n",
       "      <td>968.76</td>\n",
       "      <td>968.49</td>\n",
       "      <td>968.70</td>\n",
       "      <td>12993.0</td>\n",
       "    </tr>\n",
       "    <tr>\n",
       "      <th>2</th>\n",
       "      <td>20170101</td>\n",
       "      <td>30200</td>\n",
       "      <td>968.70</td>\n",
       "      <td>968.70</td>\n",
       "      <td>967.20</td>\n",
       "      <td>968.43</td>\n",
       "      <td>73800.0</td>\n",
       "    </tr>\n",
       "    <tr>\n",
       "      <th>3</th>\n",
       "      <td>20170101</td>\n",
       "      <td>30300</td>\n",
       "      <td>968.43</td>\n",
       "      <td>968.00</td>\n",
       "      <td>967.21</td>\n",
       "      <td>967.21</td>\n",
       "      <td>3500.0</td>\n",
       "    </tr>\n",
       "    <tr>\n",
       "      <th>4</th>\n",
       "      <td>20170101</td>\n",
       "      <td>30400</td>\n",
       "      <td>967.21</td>\n",
       "      <td>967.21</td>\n",
       "      <td>966.74</td>\n",
       "      <td>966.97</td>\n",
       "      <td>15969.0</td>\n",
       "    </tr>\n",
       "  </tbody>\n",
       "</table>\n",
       "</div>"
      ],
      "text/plain": [
       "     <DATE>  <TIME>  <OPEN>  <HIGH>   <LOW>  <CLOSE>  <VOLUME>\n",
       "0  20170101   30000  968.29  968.29  968.29   968.29       0.0\n",
       "1  20170101   30100  968.29  968.76  968.49   968.70   12993.0\n",
       "2  20170101   30200  968.70  968.70  967.20   968.43   73800.0\n",
       "3  20170101   30300  968.43  968.00  967.21   967.21    3500.0\n",
       "4  20170101   30400  967.21  967.21  966.74   966.97   15969.0"
      ]
     },
     "execution_count": 2,
     "metadata": {},
     "output_type": "execute_result"
    }
   ],
   "source": [
    "datas = pd.read_csv('XBTUSD_20170101_20180226.csv')\n",
    "# beginnig in 20171215 8: 56 :00\n",
    "datas = datas.drop(['<TICKER>','<PER>'], axis =1)\n",
    "#pyplot.plot(np.linspace(0,100,106000),datas['<OPEN>'])\n",
    "#datas = datas.drop(range(0,5000), axis =0)\n",
    "datas.head()\n"
   ]
  },
  {
   "cell_type": "code",
   "execution_count": 3,
   "metadata": {
    "collapsed": true
   },
   "outputs": [],
   "source": [
    "# проценты от средней\n",
    "def mean_period(datas, period):\n",
    "    averages = []\n",
    "    for i in np.arange(period,datas.shape[0],period):\n",
    "        averages.append(datas['<OPEN>'][i-period:i].mean())\n",
    "    averages.append(datas['<OPEN>'][i:datas.shape[0]].mean())\n",
    "    return averages\n",
    "    \n",
    "def make_serias(datas,period,bound,averages):\n",
    "    current_price = datas['<OPEN>'][0]\n",
    "    result_series = [] \n",
    "    #print(averages)\n",
    "    \n",
    "    for i in range(datas.shape[0]):\n",
    "        j = i / period\n",
    "        #print(j)\n",
    "        if current_price+averages[j]*bound/100.0<datas['<OPEN>'][i]:\n",
    "            current_price = current_price + averages[j]*bound/100.0\n",
    "            result_series.append(1)\n",
    "            \n",
    "        elif current_price - averages[j]*bound/100.0>datas['<OPEN>'][i]:\n",
    "            current_price = current_price - averages[j]*bound/100.0\n",
    "            result_series.append(-1)\n",
    "    return result_series   \n",
    "\n",
    "def make_series_equal(datas,step):\n",
    "    current_price = datas['<OPEN>'][0]\n",
    "    result_series = [] \n",
    "    for i in range(datas.shape[0]):\n",
    "        if current_price + step < datas['<OPEN>'][i]:\n",
    "            current_price = current_price + step\n",
    "            result_series.append(1)\n",
    "        elif current_price - step > datas['<OPEN>'][i]:\n",
    "            current_price = current_price - step\n",
    "            result_series.append(-1)\n",
    "    return result_series   \n",
    "\n",
    "def prob_a_z(series):\n",
    "    a= 0 \n",
    "    z =0 \n",
    "    for i in range(len(series)):\n",
    "        if series[i] > 0:\n",
    "            a = a+1\n",
    "        if series[i] < 0:\n",
    "            z = z+1\n",
    "    return {'success' : a,\n",
    "            'failure' : z,\n",
    "            'prob of success': float(a)/(a+z)}\n",
    "\n",
    "def make_past(serias,len_of_past):\n",
    "    data = []\n",
    "    y = []\n",
    "    for i in range(len_of_past,len(series)):\n",
    "        data.append(series[i - len_of_past:i])\n",
    "        y.append(series[i])\n",
    "    return [np.array(data),np.array(y)]\n",
    "        "
   ]
  },
  {
   "cell_type": "code",
   "execution_count": 4,
   "metadata": {},
   "outputs": [
    {
     "name": "stdout",
     "output_type": "stream",
     "text": [
      "{'failure': 1307, 'prob of success': 0.5086466165413533, 'success': 1353}\n"
     ]
    }
   ],
   "source": [
    "bound = 5\n",
    "period = 60\n",
    "rounding = 1.0\n",
    "len_of_past = 10\n",
    "step = 200\n",
    "series = make_series_equal(datas,step)\n",
    "print prob_a_z(series)\n",
    "data = make_past(series,len_of_past)\n",
    "X = data[0]\n",
    "y = data[1]\n"
   ]
  },
  {
   "cell_type": "code",
   "execution_count": 5,
   "metadata": {
    "collapsed": true
   },
   "outputs": [],
   "source": [
    "def find_prob_after_pattern(series,len_of_pat, future_step):\n",
    "    patterns = [[(i/(2**j)%2*2 - 1)  for j in range(len_of_pat)] for i in range(2**len_of_pat)]\n",
    "    number_of_patterns = [[0,0,0] for i in range(len(patterns))]  # [pos, neg]\n",
    "    itr = 0\n",
    "    for pat in patterns:\n",
    "        number_of_patterns_pos = 0\n",
    "        number_of_patterns_neg = 0\n",
    "        for j in np.arange(len_of_pat,len(series)-future_step,10):\n",
    "            if pat == series[j - len_of_pat:j]:\n",
    "                if series[j-1+future_step]==1:   \n",
    "                    number_of_patterns_pos += 1\n",
    "                else:\n",
    "                    number_of_patterns_neg += 1       \n",
    "        number_of_patterns[itr][0] = float(number_of_patterns_pos)/(number_of_patterns_neg+number_of_patterns_pos)\n",
    "        number_of_patterns[itr][1] = float(number_of_patterns_neg)/(number_of_patterns_neg+number_of_patterns_pos)\n",
    "        number_of_patterns[itr][2] = number_of_patterns_neg+number_of_patterns_pos\n",
    "        itr += 1\n",
    "        #print number_of_patterns\n",
    "    di = {str(patterns[i]) : number_of_patterns[i] for i in range(2**len_of_pat) }\n",
    "    return di\n",
    "    "
   ]
  },
  {
   "cell_type": "code",
   "execution_count": 6,
   "metadata": {},
   "outputs": [
    {
     "data": {
      "text/plain": [
       "{'[-1, -1, -1, -1]': [0.43478260869565216, 0.5652173913043478, 23],\n",
       " '[-1, -1, -1, 1]': [0.8235294117647058, 0.17647058823529413, 17],\n",
       " '[-1, -1, 1, -1]': [0.5263157894736842, 0.47368421052631576, 19],\n",
       " '[-1, -1, 1, 1]': [0.47619047619047616, 0.5238095238095238, 21],\n",
       " '[-1, 1, -1, -1]': [0.5625, 0.4375, 16],\n",
       " '[-1, 1, -1, 1]': [0.6666666666666666, 0.3333333333333333, 12],\n",
       " '[-1, 1, 1, -1]': [0.6666666666666666, 0.3333333333333333, 9],\n",
       " '[-1, 1, 1, 1]': [0.5555555555555556, 0.4444444444444444, 18],\n",
       " '[1, -1, -1, -1]': [0.375, 0.625, 16],\n",
       " '[1, -1, -1, 1]': [0.6666666666666666, 0.3333333333333333, 18],\n",
       " '[1, -1, 1, -1]': [0.16666666666666666, 0.8333333333333334, 6],\n",
       " '[1, -1, 1, 1]': [0.5909090909090909, 0.4090909090909091, 22],\n",
       " '[1, 1, -1, -1]': [0.375, 0.625, 16],\n",
       " '[1, 1, -1, 1]': [0.4, 0.6, 15],\n",
       " '[1, 1, 1, -1]': [0.3333333333333333, 0.6666666666666666, 15],\n",
       " '[1, 1, 1, 1]': [0.5652173913043478, 0.43478260869565216, 23]}"
      ]
     },
     "execution_count": 6,
     "metadata": {},
     "output_type": "execute_result"
    }
   ],
   "source": [
    "find_prob_after_pattern(series,4,1)"
   ]
  },
  {
   "cell_type": "code",
   "execution_count": 7,
   "metadata": {},
   "outputs": [
    {
     "data": {
      "text/plain": [
       "{'[-1, -1, -1]': [0.425, 0.575, 40],\n",
       " '[-1, -1, 1]': [0.525, 0.475, 40],\n",
       " '[-1, 1, -1]': [0.42857142857142855, 0.5714285714285714, 28],\n",
       " '[-1, 1, 1]': [0.6666666666666666, 0.3333333333333333, 27],\n",
       " '[1, -1, -1]': [0.5294117647058824, 0.47058823529411764, 34],\n",
       " '[1, -1, 1]': [0.7857142857142857, 0.21428571428571427, 28],\n",
       " '[1, 1, -1]': [0.4838709677419355, 0.5161290322580645, 31],\n",
       " '[1, 1, 1]': [0.6052631578947368, 0.39473684210526316, 38]}"
      ]
     },
     "execution_count": 7,
     "metadata": {},
     "output_type": "execute_result"
    }
   ],
   "source": [
    "find_prob_after_pattern(series,3,1)"
   ]
  },
  {
   "cell_type": "code",
   "execution_count": 8,
   "metadata": {},
   "outputs": [
    {
     "data": {
      "text/plain": [
       "{'[-1, -1]': [0.5, 0.5, 80],\n",
       " '[-1, 1]': [0.4909090909090909, 0.509090909090909, 55],\n",
       " '[1, -1]': [0.45161290322580644, 0.5483870967741935, 62],\n",
       " '[1, 1]': [0.5507246376811594, 0.4492753623188406, 69]}"
      ]
     },
     "execution_count": 8,
     "metadata": {},
     "output_type": "execute_result"
    }
   ],
   "source": [
    "find_prob_after_pattern(series,2,1)"
   ]
  },
  {
   "cell_type": "code",
   "execution_count": 9,
   "metadata": {},
   "outputs": [
    {
     "data": {
      "text/plain": [
       "{'[-1]': [0.4074074074074074, 0.5925925925925926, 135],\n",
       " '[1]': [0.5267175572519084, 0.4732824427480916, 131]}"
      ]
     },
     "execution_count": 9,
     "metadata": {},
     "output_type": "execute_result"
    }
   ],
   "source": [
    "find_prob_after_pattern(series,1,1)"
   ]
  },
  {
   "cell_type": "markdown",
   "metadata": {},
   "source": [
    "# TASK 2.1"
   ]
  },
  {
   "cell_type": "code",
   "execution_count": 82,
   "metadata": {},
   "outputs": [],
   "source": [
    "#def price_building(datas,period,percent):\n",
    "#    result = []\n",
    "#    for i in np.arange(period,len(datas),period):\n",
    "#        result.append((datas[i]-datas[i-period])/datas[i-period]*100)\n",
    "#    return result\n",
    "    \n",
    "\n",
    "#trading_2(1000,100, 1, 1, 3, price_building(np.array(datas['<OPEN>']), 5 ,0),0)\n",
    "\n",
    "#df3 = pd.read_csv('final_result.txt')\n",
    "#df3[' count']\n",
    "#price_building(datas,1,1)"
   ]
  },
  {
   "cell_type": "code",
   "execution_count": 11,
   "metadata": {
    "collapsed": true
   },
   "outputs": [],
   "source": [
    "def transform_pattern_data(data,commision):\n",
    "    maximum = 0\n",
    "    result = []\n",
    "    index = 0\n",
    "    #print (data['count'][0])\n",
    "    new_data = data\n",
    "    find_profit = 0\n",
    "    index_dr = 0 \n",
    "    for i in range(data.shape[0]):\n",
    "        find_profit = (1 - data['stop_down'][i]/100.0 - commision)**(data[' predictions_-1'][i] * data[' count'][i])*(1 + data['stop_up'][i]/100.0 - commision)**(data['predictions_1'][i] * data[' count'][i])\n",
    "        #print(find_profit)\n",
    "        if find_profit > maximum:\n",
    "            maximum = find_profit\n",
    "            index = i \n",
    "        if i == data.shape[0] - 1  or  data['bound'][i] != data['bound'][i+1]:\n",
    "            result.append([index, maximum])\n",
    "            \n",
    "            for j in range(index_dr,i):\n",
    "                if j != index:\n",
    "                    new_data = new_data.drop(j, axis = 0)\n",
    "            index_dr = i\n",
    "            index = 0\n",
    "            maximum = 0 \n",
    "    return new_data "
   ]
  },
  {
   "cell_type": "code",
   "execution_count": 86,
   "metadata": {},
   "outputs": [
    {
     "data": {
      "text/html": [
       "<div>\n",
       "<style>\n",
       "    .dataframe thead tr:only-child th {\n",
       "        text-align: right;\n",
       "    }\n",
       "\n",
       "    .dataframe thead th {\n",
       "        text-align: left;\n",
       "    }\n",
       "\n",
       "    .dataframe tbody tr th {\n",
       "        vertical-align: top;\n",
       "    }\n",
       "</style>\n",
       "<table border=\"1\" class=\"dataframe\">\n",
       "  <thead>\n",
       "    <tr style=\"text-align: right;\">\n",
       "      <th></th>\n",
       "      <th>bound</th>\n",
       "      <th>stop_up</th>\n",
       "      <th>stop_down</th>\n",
       "      <th>predictions_1</th>\n",
       "      <th>predictions_-1</th>\n",
       "      <th>count</th>\n",
       "    </tr>\n",
       "  </thead>\n",
       "  <tbody>\n",
       "    <tr>\n",
       "      <th>17</th>\n",
       "      <td>-3.0</td>\n",
       "      <td>1.5</td>\n",
       "      <td>0.75</td>\n",
       "      <td>0.377</td>\n",
       "      <td>0.623</td>\n",
       "      <td>9785</td>\n",
       "    </tr>\n",
       "    <tr>\n",
       "      <th>86</th>\n",
       "      <td>-2.5</td>\n",
       "      <td>1.5</td>\n",
       "      <td>0.75</td>\n",
       "      <td>0.377</td>\n",
       "      <td>0.623</td>\n",
       "      <td>9785</td>\n",
       "    </tr>\n",
       "    <tr>\n",
       "      <th>155</th>\n",
       "      <td>-2.0</td>\n",
       "      <td>1.5</td>\n",
       "      <td>0.75</td>\n",
       "      <td>0.377</td>\n",
       "      <td>0.623</td>\n",
       "      <td>9785</td>\n",
       "    </tr>\n",
       "    <tr>\n",
       "      <th>224</th>\n",
       "      <td>-1.5</td>\n",
       "      <td>1.5</td>\n",
       "      <td>0.75</td>\n",
       "      <td>0.377</td>\n",
       "      <td>0.623</td>\n",
       "      <td>9785</td>\n",
       "    </tr>\n",
       "    <tr>\n",
       "      <th>293</th>\n",
       "      <td>-1.0</td>\n",
       "      <td>1.5</td>\n",
       "      <td>0.75</td>\n",
       "      <td>0.377</td>\n",
       "      <td>0.623</td>\n",
       "      <td>9785</td>\n",
       "    </tr>\n",
       "    <tr>\n",
       "      <th>362</th>\n",
       "      <td>-0.5</td>\n",
       "      <td>1.5</td>\n",
       "      <td>0.75</td>\n",
       "      <td>0.377</td>\n",
       "      <td>0.623</td>\n",
       "      <td>9785</td>\n",
       "    </tr>\n",
       "    <tr>\n",
       "      <th>431</th>\n",
       "      <td>0.0</td>\n",
       "      <td>1.5</td>\n",
       "      <td>0.75</td>\n",
       "      <td>0.377</td>\n",
       "      <td>0.623</td>\n",
       "      <td>9785</td>\n",
       "    </tr>\n",
       "    <tr>\n",
       "      <th>518</th>\n",
       "      <td>0.5</td>\n",
       "      <td>2.7</td>\n",
       "      <td>1.35</td>\n",
       "      <td>0.378</td>\n",
       "      <td>0.622</td>\n",
       "      <td>3541</td>\n",
       "    </tr>\n",
       "    <tr>\n",
       "      <th>587</th>\n",
       "      <td>1.0</td>\n",
       "      <td>2.7</td>\n",
       "      <td>1.35</td>\n",
       "      <td>0.380</td>\n",
       "      <td>0.620</td>\n",
       "      <td>3498</td>\n",
       "    </tr>\n",
       "    <tr>\n",
       "      <th>659</th>\n",
       "      <td>1.5</td>\n",
       "      <td>2.9</td>\n",
       "      <td>1.45</td>\n",
       "      <td>0.381</td>\n",
       "      <td>0.619</td>\n",
       "      <td>2946</td>\n",
       "    </tr>\n",
       "    <tr>\n",
       "      <th>755</th>\n",
       "      <td>2.0</td>\n",
       "      <td>4.7</td>\n",
       "      <td>2.35</td>\n",
       "      <td>0.388</td>\n",
       "      <td>0.612</td>\n",
       "      <td>1280</td>\n",
       "    </tr>\n",
       "    <tr>\n",
       "      <th>812</th>\n",
       "      <td>2.5</td>\n",
       "      <td>3.9</td>\n",
       "      <td>1.95</td>\n",
       "      <td>0.386</td>\n",
       "      <td>0.614</td>\n",
       "      <td>1547</td>\n",
       "    </tr>\n",
       "    <tr>\n",
       "      <th>881</th>\n",
       "      <td>3.0</td>\n",
       "      <td>3.9</td>\n",
       "      <td>1.95</td>\n",
       "      <td>0.394</td>\n",
       "      <td>0.606</td>\n",
       "      <td>1351</td>\n",
       "    </tr>\n",
       "    <tr>\n",
       "      <th>896</th>\n",
       "      <td>3.0</td>\n",
       "      <td>4.9</td>\n",
       "      <td>2.45</td>\n",
       "      <td>0.378</td>\n",
       "      <td>0.622</td>\n",
       "      <td>1052</td>\n",
       "    </tr>\n",
       "  </tbody>\n",
       "</table>\n",
       "</div>"
      ],
      "text/plain": [
       "     bound  stop_up  stop_down  predictions_1   predictions_-1   count\n",
       "17    -3.0      1.5       0.75          0.377            0.623    9785\n",
       "86    -2.5      1.5       0.75          0.377            0.623    9785\n",
       "155   -2.0      1.5       0.75          0.377            0.623    9785\n",
       "224   -1.5      1.5       0.75          0.377            0.623    9785\n",
       "293   -1.0      1.5       0.75          0.377            0.623    9785\n",
       "362   -0.5      1.5       0.75          0.377            0.623    9785\n",
       "431    0.0      1.5       0.75          0.377            0.623    9785\n",
       "518    0.5      2.7       1.35          0.378            0.622    3541\n",
       "587    1.0      2.7       1.35          0.380            0.620    3498\n",
       "659    1.5      2.9       1.45          0.381            0.619    2946\n",
       "755    2.0      4.7       2.35          0.388            0.612    1280\n",
       "812    2.5      3.9       1.95          0.386            0.614    1547\n",
       "881    3.0      3.9       1.95          0.394            0.606    1351\n",
       "896    3.0      4.9       2.45          0.378            0.622    1052"
      ]
     },
     "execution_count": 86,
     "metadata": {},
     "output_type": "execute_result"
    }
   ],
   "source": [
    "data_tr = transform_pattern_data(df3,0.05/100)\n",
    "data_tr"
   ]
  },
  {
   "cell_type": "code",
   "execution_count": 139,
   "metadata": {},
   "outputs": [],
   "source": [
    "def risks(bank, credit_bank, bound, pattern):\n",
    "    e = 0.15\n",
    "    i = 0\n",
    "    for item in pattern['bound']:\n",
    "        #print(i)\n",
    "        if np.abs(item - bound)<=e:\n",
    "            #print('ok')\n",
    "            if (bound >=0):\n",
    "                stop_up = pattern['stop_up'][i]\n",
    "                stop_loss = pattern['stop_down'][i]\n",
    "                #print(stop_up)\n",
    "                if pattern['predictions_1'][i] > 0.6:\n",
    "                    bet = bank * 0.25\n",
    "                else: \n",
    "                    bet = 0\n",
    "            else:\n",
    "                if pattern['predictions_-1'][i] >0.6\n",
    "                    bet = credit_bank *0.25\n",
    "                else:\n",
    "                    bet = 0\n",
    "        else:\n",
    "            i = i+1\n",
    "    return [bet, stop_up, stop_loss]\n",
    "    "
   ]
  },
  {
   "cell_type": "code",
   "execution_count": 146,
   "metadata": {},
   "outputs": [],
   "source": [
    "def trading(bank, credit_bank, pattern, datas, method):\n",
    "    bet = 0\n",
    "    current_price = 1\n",
    "    for i in range(5000):\n",
    "        current_price = current_price* # пересчет прайса\n",
    "        bound = #bound\n",
    "        if (bet ==0):\n",
    "            current_price = 1\n",
    "            if (bound >=0):\n",
    "                bet = bet + risks(bound, pattern)[0]\n",
    "                bank = bank - bet\n",
    "                stop_up = risks(bound, pattern)[1]\n",
    "                stop_loss = risks(bound, pattern)[2]\n",
    "            else: \n",
    "                bet = bet + risks(bound, pattern)[0]\n",
    "                credit_bank = credit_bank - bet \n",
    "                stop_up = risks(bound, pattern)[1]\n",
    "                stop_loss = risks(bound, pattern)[2]\n",
    "        else:\n",
    "            if (bound >= 0): \n",
    "                if np.abs(current_price - 1)/100 > stop_up:\n",
    "                    bank = bank + bet*current_price \n",
    "                    bet = 0\n",
    "                if np.abs(current_price -1)/100 < stop_loss:\n",
    "                    bank = bank - bet\n",
    "                    bet = 0\n",
    "            else: \n",
    "                if (current_price - 1)*100 =< stop_loss:\n",
    "                    credit_bank = credit_bank + bet\n",
    "                    bank = bank + bet * (stop_loss/100.0)\n",
    "                    bet = 0\n",
    "    \n",
    "            \n",
    "        \n"
   ]
  },
  {
   "cell_type": "code",
   "execution_count": null,
   "metadata": {},
   "outputs": [],
   "source": []
  },
  {
   "cell_type": "code",
   "execution_count": null,
   "metadata": {
    "collapsed": true
   },
   "outputs": [],
   "source": [
    "trading(np.array(datas['<OPEN>']), 100,100,transform_pattern_data(df3,0.05/100), 0)"
   ]
  },
  {
   "cell_type": "code",
   "execution_count": null,
   "metadata": {
    "collapsed": true
   },
   "outputs": [],
   "source": []
  }
 ],
 "metadata": {
  "kernelspec": {
   "display_name": "Python 2",
   "language": "python",
   "name": "python2"
  },
  "language_info": {
   "codemirror_mode": {
    "name": "ipython",
    "version": 2
   },
   "file_extension": ".py",
   "mimetype": "text/x-python",
   "name": "python",
   "nbconvert_exporter": "python",
   "pygments_lexer": "ipython2",
   "version": "2.7.14"
  }
 },
 "nbformat": 4,
 "nbformat_minor": 1
}
