{
 "cells": [
  {
   "cell_type": "code",
   "execution_count": 1,
   "metadata": {},
   "outputs": [
    {
     "name": "stderr",
     "output_type": "stream",
     "text": [
      "/anaconda2/lib/python2.7/site-packages/sklearn/cross_validation.py:41: DeprecationWarning: This module was deprecated in version 0.18 in favor of the model_selection module into which all the refactored classes and functions are moved. Also note that the interface of the new CV iterators are different from that of this module. This module will be removed in 0.20.\n",
      "  \"This module will be removed in 0.20.\", DeprecationWarning)\n",
      "/anaconda2/lib/python2.7/site-packages/sklearn/grid_search.py:42: DeprecationWarning: This module was deprecated in version 0.18 in favor of the model_selection module into which all the refactored classes and functions are moved. This module will be removed in 0.20.\n",
      "  DeprecationWarning)\n"
     ]
    },
    {
     "name": "stdout",
     "output_type": "stream",
     "text": [
      "Populating the interactive namespace from numpy and matplotlib\n"
     ]
    }
   ],
   "source": [
    "from matplotlib.colors import ListedColormap\n",
    "from sklearn import cross_validation, datasets, metrics, tree ,ensemble\n",
    "from sklearn.linear_model import LogisticRegression\n",
    "from sklearn.grid_search import GridSearchCV\n",
    "from sklearn.metrics import roc_auc_score, precision_recall_curve\n",
    "import pandas as pd\n",
    "import numpy as np\n",
    "%pylab inline"
   ]
  },
  {
   "cell_type": "markdown",
   "metadata": {},
   "source": [
    "# Генерация данных"
   ]
  },
  {
   "cell_type": "code",
   "execution_count": 15,
   "metadata": {},
   "outputs": [],
   "source": [
    "datas = pd.read_csv('XBTUSD_20170101_20180226.csv')\n",
    "# beginnig in 20171215 8: 56 :00\n",
    "datas = datas.drop(['<TICKER>','<PER>'], axis =1)\n",
    "#pyplot.plot(np.linspace(0,100,106000),datas['<OPEN>'])\n",
    "#datas = datas.drop(range(0,5000), axis =0)\n",
    "datas = datas[:5000]"
   ]
  },
  {
   "cell_type": "code",
   "execution_count": 146,
   "metadata": {},
   "outputs": [],
   "source": [
    "def mean_period(datas, period):\n",
    "    averages = []\n",
    "    for i in np.arange(period,datas.shape[0],period):\n",
    "        averages.append(datas['<OPEN>'][i-period:i].mean())\n",
    "    averages.append(datas['<OPEN>'][i:datas.shape[0]].mean())\n",
    "    return averages\n",
    "\n",
    "\n",
    "def candles(strategy, period, datas):  #strategy: 1 - open/close 2 - open/percent 3 -  high/low\n",
    "    size = []\n",
    "    averages = mean_period(datas,period)\n",
    "    \n",
    "    if (strategy == 1):\n",
    "        for i in range(datas.shape[0]/period - 2): \n",
    "            size.append(np.abs(datas['<OPEN>'][i + period*i] - datas['<CLOSE>'][(i+1)*period + i]) / averages[i] )\n",
    "        return size\n",
    "    if (strategy == 2): \n",
    "        percent = 10 # заданный процент\n",
    "        for i in range(datas.shape[0]/period - 2):\n",
    "            size.append(datas['<OPEN>'][i]*(1+ (percent/100) )/ averages[i])\n",
    "        return size\n",
    "    if (strategy == 3):\n",
    "        pass\n",
    "   "
   ]
  },
  {
   "cell_type": "code",
   "execution_count": 145,
   "metadata": {},
   "outputs": [
    {
     "data": {
      "text/plain": [
       "[0.99834481113508944, 0.96252746357885055, 0.94608260856979232]"
      ]
     },
     "execution_count": 145,
     "metadata": {},
     "output_type": "execute_result"
    }
   ],
   "source": [
    "candles(2, 1000, datas)"
   ]
  },
  {
   "cell_type": "code",
   "execution_count": null,
   "metadata": {},
   "outputs": [],
   "source": []
  },
  {
   "cell_type": "code",
   "execution_count": 125,
   "metadata": {},
   "outputs": [
    {
     "data": {
      "text/plain": [
       "array([  968.29,   968.29,   968.7 , ...,  1082.88,  1083.26,  1085.84])"
      ]
     },
     "execution_count": 125,
     "metadata": {},
     "output_type": "execute_result"
    }
   ],
   "source": [
    "np.array(datas['<OPEN>'])"
   ]
  },
  {
   "cell_type": "code",
   "execution_count": null,
   "metadata": {
    "collapsed": true
   },
   "outputs": [],
   "source": []
  }
 ],
 "metadata": {
  "kernelspec": {
   "display_name": "Python 2",
   "language": "python",
   "name": "python2"
  },
  "language_info": {
   "codemirror_mode": {
    "name": "ipython",
    "version": 2
   },
   "file_extension": ".py",
   "mimetype": "text/x-python",
   "name": "python",
   "nbconvert_exporter": "python",
   "pygments_lexer": "ipython2",
   "version": "2.7.14"
  }
 },
 "nbformat": 4,
 "nbformat_minor": 2
}
